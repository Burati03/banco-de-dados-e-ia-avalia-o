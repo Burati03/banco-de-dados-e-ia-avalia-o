{
 "cells": [
  {
   "cell_type": "code",
   "execution_count": null,
   "id": "99ff75e1",
   "metadata": {
    "vscode": {
     "languageId": "plaintext"
    }
   },
   "outputs": [],
   "source": [
    "# 📌 Imports\n",
    "import sqlite3\n",
    "import pandas as pd\n",
    "import numpy as np\n",
    "import matplotlib.pyplot as plt\n",
    "from sklearn.linear_model import LinearRegression\n",
    "\n",
    "# ✅ Geração de dados simulados\n",
    "np.random.seed(42)\n",
    "idades = np.random.randint(10, 60, 100)\n",
    "gastos = np.random.randint(10, 100, 100)\n",
    "avaliacoes = (0.3 * idades + 0.7 * gastos + np.random.normal(0, 5, 100)).round(1)\n",
    "\n",
    "dados = pd.DataFrame({\n",
    "    'nome': [f'Pessoa{i+1}' for i in range(100)],\n",
    "    'idade': idades,\n",
    "    'gasto': gastos,\n",
    "    'avaliacao': avaliacoes\n",
    "})\n",
    "\n",
    "# 💾 Criação do banco SQLite\n",
    "conn = sqlite3.connect(':memory:')\n",
    "dados.to_sql('festa', conn, index=False, if_exists='replace')\n",
    "\n",
    "# 🔍 4 consultas SQL\n",
    "print(pd.read_sql(\"SELECT * FROM festa LIMIT 5\", conn))\n",
    "print(pd.read_sql(\"SELECT AVG(avaliacao) as media_avaliacao FROM festa\", conn))\n",
    "print(pd.read_sql(\"SELECT gasto, AVG(avaliacao) as media FROM festa GROUP BY gasto ORDER BY gasto DESC LIMIT 5\", conn))\n",
    "print(pd.read_sql(\"SELECT * FROM festa WHERE idade > 30 AND gasto > 50\", conn))\n",
    "\n",
    "# 📈 Regressão Linear\n",
    "X = dados[['idade', 'gasto']]\n",
    "y = dados['avaliacao']\n",
    "modelo = LinearRegression()\n",
    "modelo.fit(X, y)\n",
    "\n",
    "print(\"Coeficientes:\", modelo.coef_)\n",
    "print(\"Intercepto:\", modelo.intercept_)\n",
    "\n",
    "# Previsão com novos dados manuais\n",
    "novo = pd.DataFrame({'idade': [25, 40], 'gasto': [60, 80]})\n",
    "prev = modelo.predict(novo)\n",
    "print(\"Previsão novas pessoas:\", prev)\n",
    "\n",
    "# Gráfico (opcional no Colab)\n",
    "plt.scatter(dados['gasto'], dados['avaliacao'], color='blue')\n",
    "plt.xlabel('Gasto')\n",
    "plt.ylabel('Avaliação')\n",
    "plt.title('Gasto vs Avaliação')\n",
    "plt.show()\n",
    "\n",
    "# Exportação opcional\n",
    "dados.to_csv('dados_festa_junina.csv', index=False)\n"
   ]
  }
 ],
 "metadata": {
  "language_info": {
   "name": "python"
  }
 },
 "nbformat": 4,
 "nbformat_minor": 5
}
